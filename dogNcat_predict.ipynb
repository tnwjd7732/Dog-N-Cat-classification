{
 "cells": [
  {
   "cell_type": "code",
   "execution_count": 5,
   "metadata": {},
   "outputs": [],
   "source": [
    "import os\n",
    "import numpy as np\n",
    "import tensorflow as tf\n",
    "from keras.preprocessing import image\n"
   ]
  },
  {
   "cell_type": "code",
   "execution_count": 6,
   "metadata": {},
   "outputs": [],
   "source": [
    "#prediction할 데이터셋이 있는 경로로 수정\n",
    "local_path2 = 'data/prediction_set/'"
   ]
  },
  {
   "cell_type": "code",
   "execution_count": 7,
   "metadata": {},
   "outputs": [],
   "source": [
    "def prediction_cat_dog(local_path2, model):\n",
    "    prediction_dir = os.path.join(local_path2)\n",
    "    prediction_names = os.listdir(prediction_dir)\n",
    "\n",
    "    for fn in prediction_names:\n",
    "        img = image.load_img(local_path2+fn, target_size=(150, 150))\n",
    "        x = image.img_to_array(img)\n",
    "        x=x/225\n",
    "        x = np.expand_dims(x, axis=0)\n",
    "        images = np.vstack([x])\n",
    "        classes = model.predict(images, batch_size=10)\n",
    "\n",
    "        if classes[0]>0.5:\n",
    "            print(fn + \" is a dog\")\n",
    "        else:\n",
    "            print(fn + \" is a cat\")"
   ]
  },
  {
   "cell_type": "code",
   "execution_count": 8,
   "metadata": {},
   "outputs": [
    {
     "name": "stdout",
     "output_type": "stream",
     "text": [
      "1.jpg is a dog\n",
      "10.jpg is a cat\n",
      "11.jpg is a cat\n",
      "12.jpg is a dog\n",
      "13.jpg is a cat\n",
      "14.jpg is a cat\n",
      "15.jpg is a cat\n",
      "16.jpg is a cat\n",
      "17.jpg is a dog\n",
      "18.jpg is a dog\n",
      "19.jpg is a cat\n",
      "2.jpg is a dog\n",
      "20.jpg is a cat\n",
      "3.jpg is a dog\n",
      "4.jpg is a dog\n",
      "5.jpg is a cat\n",
      "6.jpg is a cat\n",
      "7.jpg is a cat\n",
      "8.jpg is a cat\n",
      "9.jpg is a cat\n"
     ]
    }
   ],
   "source": [
    "#dogNcat_training.ipynb을 통해 훈련되고 저장된 모델로 predict\n",
    "new_model = tf.keras.models.load_model('final_model.h5')\n",
    "prediction_cat_dog(local_path2, new_model)"
   ]
  }
 ],
 "metadata": {
  "kernelspec": {
   "display_name": "test_tensorflow",
   "language": "python",
   "name": "test_tensorflow"
  },
  "language_info": {
   "codemirror_mode": {
    "name": "ipython",
    "version": 3
   },
   "file_extension": ".py",
   "mimetype": "text/x-python",
   "name": "python",
   "nbconvert_exporter": "python",
   "pygments_lexer": "ipython3",
   "version": "3.6.10"
  }
 },
 "nbformat": 4,
 "nbformat_minor": 4
}
